{
 "cells": [
  {
   "cell_type": "markdown",
   "metadata": {},
   "source": [
    "# Pandas Objects\n",
    "Pandas is one of the most widely used libraries in Python for data analysis. It provides powerful data structures like Series and DataFrames that make it easier to manipulate and analyze data. \n",
    "\n",
    "To understand how these objects work together, we’ll think of a scenario where we’re collecting information about several people — their height, age, and location.\n",
    "\n",
    "In this tutorial, we’ll use three key objects from Pandas:\n",
    "\n",
    "- Pandas Series: A one-dimensional array-like object with labeled indices.\n",
    "- Pandas DataFrame: A two-dimensional table (like a spreadsheet or SQL table) where data is aligned into rows and columns, and both rows and columns have labels (indices).\n",
    "- Pandas Index: A specialized object used for managing row and column labels efficiently, with support for operations like unions and intersections.\n",
    "\n",
    "**Why know about these pandas objects**: Knowing their properties and behaviors can help you work more effectively. Smilar to knowing how to operate a drill saw."
   ]
  },
  {
   "cell_type": "markdown",
   "metadata": {},
   "source": [
    "## Step 1: Creating a Pandas Series\n",
    "We begin with Series, which is a simple list-like object. For example, let’s say we are collecting the heights of four people. Each person's height will be stored along with an index (label) for easy access. "
   ]
  },
  {
   "cell_type": "code",
   "execution_count": null,
   "metadata": {},
   "outputs": [
    {
     "data": {
      "text/plain": [
       "Alice      5.5\n",
       "Bob        6.0\n",
       "Charlie    5.8\n",
       "David      6.2\n",
       "dtype: float64"
      ]
     },
     "execution_count": 1,
     "metadata": {},
     "output_type": "execute_result"
    }
   ],
   "source": [
    "# Import Pandas\n",
    "import pandas as pd\n",
    "\n",
    "# Create a Series to store heights of people\n",
    "heights = pd.Series([5.5, 6.0, 5.8, 6.2], index=['Alice', 'Bob', 'Charlie', 'David'])\n",
    "          # pd.Series(data, index): data first, then index.\n",
    "\n",
    "# Display the Series\n",
    "heights"
   ]
  },
  {
   "cell_type": "code",
   "execution_count": 2,
   "metadata": {},
   "outputs": [
    {
     "data": {
      "text/plain": [
       "np.float64(5.5)"
      ]
     },
     "execution_count": 2,
     "metadata": {},
     "output_type": "execute_result"
    }
   ],
   "source": [
    "# Accessing specific data by index\n",
    "heights['Alice']"
   ]
  },
  {
   "cell_type": "markdown",
   "metadata": {},
   "source": [
    "## Step 2. Create and Work with a DataFrame\n",
    "Now, let’s take multiple Series (like heights and maybe ages) and combine them into a DataFrame."
   ]
  },
  {
   "cell_type": "code",
   "execution_count": 3,
   "metadata": {},
   "outputs": [
    {
     "data": {
      "text/html": [
       "<div>\n",
       "<style scoped>\n",
       "    .dataframe tbody tr th:only-of-type {\n",
       "        vertical-align: middle;\n",
       "    }\n",
       "\n",
       "    .dataframe tbody tr th {\n",
       "        vertical-align: top;\n",
       "    }\n",
       "\n",
       "    .dataframe thead th {\n",
       "        text-align: right;\n",
       "    }\n",
       "</style>\n",
       "<table border=\"1\" class=\"dataframe\">\n",
       "  <thead>\n",
       "    <tr style=\"text-align: right;\">\n",
       "      <th></th>\n",
       "      <th>Height</th>\n",
       "      <th>Age</th>\n",
       "    </tr>\n",
       "  </thead>\n",
       "  <tbody>\n",
       "    <tr>\n",
       "      <th>Alice</th>\n",
       "      <td>5.5</td>\n",
       "      <td>25</td>\n",
       "    </tr>\n",
       "    <tr>\n",
       "      <th>Bob</th>\n",
       "      <td>6.0</td>\n",
       "      <td>30</td>\n",
       "    </tr>\n",
       "    <tr>\n",
       "      <th>Charlie</th>\n",
       "      <td>5.8</td>\n",
       "      <td>28</td>\n",
       "    </tr>\n",
       "    <tr>\n",
       "      <th>David</th>\n",
       "      <td>6.2</td>\n",
       "      <td>35</td>\n",
       "    </tr>\n",
       "  </tbody>\n",
       "</table>\n",
       "</div>"
      ],
      "text/plain": [
       "         Height  Age\n",
       "Alice       5.5   25\n",
       "Bob         6.0   30\n",
       "Charlie     5.8   28\n",
       "David       6.2   35"
      ]
     },
     "execution_count": 3,
     "metadata": {},
     "output_type": "execute_result"
    }
   ],
   "source": [
    "# Create another Series (ages)\n",
    "ages = pd.Series([25, 30, 28, 35], index=['Alice', 'Bob', 'Charlie', 'David'])\n",
    "\n",
    "# Combine Series into a DataFrame\n",
    "data = pd.DataFrame({'Height': heights, 'Age': ages})\n",
    "\n",
    "# Display the DataFrame\n",
    "data"
   ]
  },
  {
   "cell_type": "markdown",
   "metadata": {},
   "source": [
    "## Step 3. Accessing Data Using Index\n",
    "Use the Index to refer to rows in your DataFrame and Series.\n",
    "- Row Identifier = Index\n",
    "- Column Name = Label\n",
    "\n",
    "Tips for Efficient Work:\n",
    "- Use .loc[] for label-based indexing: It's great for when you want to work with specific row/column labels.\n",
    "- Use .iloc[] for integer-based indexing: When you're accessing data by its position.\n",
    "- Set operations: Experiment with Index operations like union, intersection, and difference for comparing data labels."
   ]
  },
  {
   "cell_type": "code",
   "execution_count": 15,
   "metadata": {},
   "outputs": [
    {
     "data": {
      "text/plain": [
       "Height     6.0\n",
       "Age       30.0\n",
       "Name: Bob, dtype: float64"
      ]
     },
     "execution_count": 15,
     "metadata": {},
     "output_type": "execute_result"
    }
   ],
   "source": [
    "data.loc[\"Bob\"]"
   ]
  },
  {
   "cell_type": "code",
   "execution_count": 16,
   "metadata": {},
   "outputs": [
    {
     "data": {
      "text/plain": [
       "Height     6.0\n",
       "Age       30.0\n",
       "Name: Bob, dtype: float64"
      ]
     },
     "execution_count": 16,
     "metadata": {},
     "output_type": "execute_result"
    }
   ],
   "source": [
    "data.iloc[1]"
   ]
  },
  {
   "cell_type": "code",
   "execution_count": 8,
   "metadata": {},
   "outputs": [
    {
     "name": "stdout",
     "output_type": "stream",
     "text": [
      "About Alice: Height     5.5\n",
      "Age       25.0\n",
      "Name: Alice, dtype: float64\n",
      "All heights: Alice      5.5\n",
      "Bob        6.0\n",
      "Charlie    5.8\n",
      "David      6.2\n",
      "Name: Height, dtype: float64\n"
     ]
    }
   ],
   "source": [
    "# Accessing a row by label (index)\n",
    "print(f\"About Alice: {data.loc['Alice']}\")  # Access by row label\n",
    "\n",
    "# Accessing a column by name aka lable\n",
    "print(f\"All heights: {data['Height']}\")\n"
   ]
  },
  {
   "cell_type": "code",
   "execution_count": 14,
   "metadata": {},
   "outputs": [
    {
     "name": "stdout",
     "output_type": "stream",
     "text": [
      "Customers with both sales and feedback: Index([4, 5], dtype='int64')\n",
      "All unique customers: Index([1, 2, 3, 4, 5, 6, 7, 8], dtype='int64')\n",
      "All unique customers (difference): Index([1, 2, 3, 6, 7, 8], dtype='int64')\n"
     ]
    }
   ],
   "source": [
    "import pandas as pd\n",
    "\n",
    "# Sales data index (customer IDs)\n",
    "sales_index = pd.Index([1, 2, 3, 4, 5])\n",
    "\n",
    "# Feedback data index (customer IDs)\n",
    "feedback_index = pd.Index([4, 5, 6, 7, 8])\n",
    "\n",
    "# Find customers who both bought and gave feedback (intersection)\n",
    "customers_with_feedback = sales_index.intersection(feedback_index)  # Common customers\n",
    "\n",
    "# Find all customers who either bought something or left feedback (union)\n",
    "all_customers = sales_index.union(feedback_index)  # All unique customers\n",
    "\n",
    "# Find all customers who bought something and did not leave feedback or vice versa (difference)\n",
    "customers_difference = sales_index.symmetric_difference(feedback_index)  # Unique customers\n",
    "\n",
    "# Print results\n",
    "print(\"Customers with both sales and feedback:\", customers_with_feedback)\n",
    "print(\"All unique customers:\", all_customers)\n",
    "print(f\"All unique customers (difference): {customers_difference}\")\n"
   ]
  }
 ],
 "metadata": {
  "kernelspec": {
   "display_name": ".venv",
   "language": "python",
   "name": "python3"
  },
  "language_info": {
   "codemirror_mode": {
    "name": "ipython",
    "version": 3
   },
   "file_extension": ".py",
   "mimetype": "text/x-python",
   "name": "python",
   "nbconvert_exporter": "python",
   "pygments_lexer": "ipython3",
   "version": "3.12.8"
  }
 },
 "nbformat": 4,
 "nbformat_minor": 2
}
